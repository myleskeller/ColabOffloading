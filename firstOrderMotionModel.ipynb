{
  "nbformat": 4,
  "nbformat_minor": 0,
  "metadata": {
    "colab": {
      "name": "firstOrderMotionModel.ipynb",
      "provenance": [],
      "collapsed_sections": [],
      "include_colab_link": true
    },
    "kernelspec": {
      "name": "python3",
      "display_name": "Python 3"
    },
    "accelerator": "GPU"
  },
  "cells": [
    {
      "cell_type": "markdown",
      "metadata": {
        "id": "view-in-github",
        "colab_type": "text"
      },
      "source": [
        "<a href=\"https://colab.research.google.com/github/myleskeller/ColabOffloading/blob/main/firstOrderMotionModel.ipynb\" target=\"_parent\"><img src=\"https://colab.research.google.com/assets/colab-badge.svg\" alt=\"Open In Colab\"/></a>"
      ]
    },
    {
      "cell_type": "markdown",
      "metadata": {
        "id": "cdO_RxQZLahB"
      },
      "source": [
        "# Streamlined [Demo for paper \"First Order Motion Model for Image Animation\"](https://colab.research.google.com/github/AliaksandrSiarohin/first-order-model/blob/master/demo.ipynb)"
      ]
    },
    {
      "cell_type": "code",
      "metadata": {
        "id": "UCMFMJV7K-ag",
        "cellView": "form"
      },
      "source": [
        "#@title Clone Repository / Import Python Requirements\n",
        "import os.path\n",
        "from os import path\n",
        "# prevents recursively reloading repo if this cell is re-run\n",
        "if(not(path.exists(\"/content/first-order-model\"))):\n",
        "  !git clone https://github.com/AliaksandrSiarohin/first-order-model\n",
        "  %cd first-order-model\n",
        "\n",
        "#@title Python Imports\n",
        "import imageio\n",
        "from skimage import img_as_ubyte\n",
        "import numpy as np\n",
        "import matplotlib.pyplot as plt\n",
        "import matplotlib.animation as animation\n",
        "from skimage.transform import resize\n",
        "from IPython.display import HTML\n",
        "import warnings\n",
        "warnings.filterwarnings(\"ignore\")\n",
        "\n",
        "from demo import make_animation\n",
        "from demo import load_checkpoints\n",
        "\n",
        "\n",
        "def display(source, driving, generated=None):\n",
        "    fig = plt.figure(figsize=(8 + 4 * (generated is not None), 6))\n",
        "\n",
        "    ims = []\n",
        "    for i in range(len(driving)):\n",
        "        cols = [source]\n",
        "        cols.append(driving[i])\n",
        "        if generated is not None:\n",
        "            cols.append(generated[i])\n",
        "        im = plt.imshow(np.concatenate(cols, axis=1), animated=True)\n",
        "        plt.axis('off')\n",
        "        ims.append([im])\n",
        "\n",
        "    ani = animation.ArtistAnimation(fig, ims, interval=50, repeat_delay=1000)\n",
        "    plt.close()\n",
        "    return ani"
      ],
      "execution_count": null,
      "outputs": []
    },
    {
      "cell_type": "code",
      "metadata": {
        "cellView": "form",
        "id": "q_Pxdp9guQjJ"
      },
      "source": [
        "#@title Load Models via Google Drive\n",
        "#@markdown The **695 Mb** file `vox-cpk.pth.tar` contains the pre-trained models and is necessary for this to run. The simplest way (short of me pissing off GitHub by hosting it in a personal repo) is to add the [data folder associated with the original demo](https://drive.google.com/drive/folders/1kZ1gCnpfU0BnpdU47pLM_TQ6RypDDqgw?usp=sharing) (*same as link below*) to your Google Drive and link that to this runtime. This folder also contains example images and videos to experiment with. \n",
        "\n",
        "#@markdown * Add this folder to your Google Drive:\n",
        "#@markdown https://drive.google.com/drive/folders/1kZ1gCnpfU0BnpdU47pLM_TQ6RypDDqgw?usp=sharing\n",
        "\n",
        "#@markdown * Not working? Here's a mirror:\n",
        "#@markdown https://drive.google.com/drive/folders/16inDpBRPT1UC0YMGMX3dKvRnOUsf5Dhn?usp=sharing\n",
        "\n",
        "#@markdown \n",
        "\n",
        "# actual gogle drive stuff\n",
        "from google.colab import drive\n",
        "drive.mount('/content/drive')\n",
        "\n",
        "#@markdown If the location of `vox-cpk.pth.tar` is not the default location, it can be changed below.\n",
        "model_location = \"/content/drive/MyDrive/first-order-motion-model/vox-cpk.pth.tar\" #@param {type:\"string\"}\n",
        "\n",
        "generator, kp_detector = load_checkpoints(config_path='config/vox-256.yaml', \n",
        "                            checkpoint_path=model_location)"
      ],
      "execution_count": null,
      "outputs": []
    },
    {
      "cell_type": "markdown",
      "metadata": {
        "id": "5UwZ-6PImRJt"
      },
      "source": [
        "# File Source\n",
        "Choose one."
      ]
    },
    {
      "cell_type": "code",
      "metadata": {
        "cellView": "form",
        "id": "jYlcdOZimCTN"
      },
      "source": [
        "#@title Direct Upload{ vertical-output: true }\n",
        "\n",
        "#@markdown - In the **first** *Choose Files* prompt, select the desired `.jpg` or `.png` file to animate.\n",
        "#@markdown - In the **second** *Choose Files* prompt, select the desired `.mp4` or `.mkv` file for animation modelling. \n",
        "\n",
        "from google.colab import files\n",
        "uploaded = files.upload()\n",
        "\n",
        "for fn in uploaded.keys():\n",
        "  image_file_path = './' + fn\n",
        "# input file path\n",
        "print(\"Image file path: \" + image_file_path)\n",
        "\n",
        "uploaded = files.upload()\n",
        "for fn in uploaded.keys():\n",
        "  video_file_path = './' + fn\n",
        "# input file path\n",
        "print(\"Video file path: \" + video_file_path)"
      ],
      "execution_count": null,
      "outputs": []
    },
    {
      "cell_type": "code",
      "metadata": {
        "cellView": "form",
        "id": "MjiPzxOwnzgd"
      },
      "source": [
        "# @title Google Drive { vertical-output: true }\n",
        "\n",
        "# actual gogle drive stuff\n",
        "from google.colab import drive\n",
        "drive.mount('/content/drive')\n",
        "\n",
        "#@markdown - In the *Files* pane, find the desired `.jpg` or `.png` file to animate under the folder **drive**\n",
        "#@markdown - click *Copy path* in the overflow menu of the file\n",
        "#@markdown - paste the result in the `image_file_path` field below\n",
        "# input image file path\n",
        "image_file_path = '/content/drive/MyDrive/first-order-motion-model/cartoons-01.png' #@param {type: \"string\"}\n",
        "print(\"Image file path: \" + image_file_path)\n",
        "\n",
        "#@markdown - In the *Files* pane, find the desired `.mp4` or `.mkv` file for animation modelling under the folder **drive**\n",
        "#@markdown - click *Copy path* in the overflow menu of the file\n",
        "#@markdown - paste the result in the `video_file_path` below\n",
        "# input video file path\n",
        "video_file_path = '/content/drive/MyDrive/first-order-motion-model/00.mp4' #@param {type: \"string\"}\n",
        "print(\"Video file path: \" + video_file_path)"
      ],
      "execution_count": null,
      "outputs": []
    },
    {
      "cell_type": "markdown",
      "metadata": {
        "id": "j-H2UPGBmYyT"
      },
      "source": [
        "# Render Animation"
      ]
    },
    {
      "cell_type": "code",
      "metadata": {
        "id": "d8kQ3U7MHqh-",
        "cellView": "form"
      },
      "source": [
        "#@title Configurable Parameters { form-width: \"25%\" }\n",
        "\n",
        "keypoint_displacement = \"absolute\" #@param [\"absolute\", \"relative\"]\n",
        "if keypoint_displacement == \"absolute\":\n",
        "  keypoint_displacement = False\n",
        "if keypoint_displacement == \"relative\":\n",
        "  keypoint_displacement = True\n",
        "\n",
        "adaptive_movement_scaling = True #@param {type:\"boolean\"}\n",
        "\n",
        "source_image = imageio.imread(image_file_path)\n",
        "driving_video = imageio.mimread(video_file_path, memtest=False)\n",
        "\n",
        "\n",
        "#Resize image and video to 256x256\n",
        "source_image = resize(source_image, (256, 256))[..., :3]\n",
        "driving_video = [resize(frame, (256, 256))[..., :3] for frame in driving_video]\n",
        "\n",
        "predictions = make_animation(source_image, driving_video, generator, kp_detector, relative=keypoint_displacement, adapt_movement_scale=adaptive_movement_scaling)\n",
        "\n",
        "HTML(display(source_image, driving_video, predictions).to_html5_video())"
      ],
      "execution_count": null,
      "outputs": []
    }
  ]
}