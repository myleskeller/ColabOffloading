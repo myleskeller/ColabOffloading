{
  "nbformat": 4,
  "nbformat_minor": 0,
  "metadata": {
    "colab": {
      "provenance": [],
      "authorship_tag": "ABX9TyNx+ZHOGSXw8mjIMaIdflyS",
      "include_colab_link": true
    },
    "kernelspec": {
      "name": "python3",
      "display_name": "Python 3"
    },
    "language_info": {
      "name": "python"
    }
  },
  "cells": [
    {
      "cell_type": "markdown",
      "metadata": {
        "id": "view-in-github",
        "colab_type": "text"
      },
      "source": [
        "<a href=\"https://colab.research.google.com/github/myleskeller/ColabOffloading/blob/main/MatPlotLib_for_Overleaf.ipynb\" target=\"_parent\"><img src=\"https://colab.research.google.com/assets/colab-badge.svg\" alt=\"Open In Colab\"/></a>"
      ]
    },
    {
      "cell_type": "code",
      "source": [
        "# @title Importing fonts... { vertical-output: true, display-mode: \"form\" }\n",
        "import matplotlib.pyplot as plt\n",
        "from matplotlib import font_manager\n",
        "\n",
        "try:\n",
        "  if has_run is not True:\n",
        "    !rm -fr ~/.cache/matplotlib\n",
        "    !wget https://github.com/myleskeller/ColabOffloading/raw/main/fonts.zip -O fonts.zip\n",
        "    !unzip fonts.zip -d /usr/share/fonts/\n",
        "    font_files = font_manager.findSystemFonts(fontpaths=[\"/usr/share/fonts/\"])\n",
        "    for font_file in font_files:\n",
        "        font_manager.fontManager.addfont(font_file)\n",
        "  has_run = True\n",
        "except:\n",
        "    !rm -fr ~/.cache/matplotlib\n",
        "    !wget https://github.com/myleskeller/ColabOffloading/raw/main/fonts.zip -O fonts.zip\n",
        "    !unzip fonts.zip -d /usr/share/fonts/\n",
        "    font_files = font_manager.findSystemFonts(fontpaths=[\"/usr/share/fonts/\"])\n",
        "    for font_file in font_files:\n",
        "        font_manager.fontManager.addfont(font_file)\n",
        "    has_run = True"
      ],
      "metadata": {
        "colab": {
          "base_uri": "https://localhost:8080/"
        },
        "id": "AXhSJgNuMrx6",
        "outputId": "e21ec0fb-17b2-47b4-edab-423544480a85"
      },
      "execution_count": null,
      "outputs": [
        {
          "output_type": "stream",
          "name": "stdout",
          "text": [
            "--2023-11-28 05:57:21--  https://github.com/myleskeller/ColabOffloading/raw/main/fonts.zip\n",
            "Resolving github.com (github.com)... 140.82.113.4\n",
            "Connecting to github.com (github.com)|140.82.113.4|:443... connected.\n",
            "HTTP request sent, awaiting response... 302 Found\n",
            "Location: https://raw.githubusercontent.com/myleskeller/ColabOffloading/main/fonts.zip [following]\n",
            "--2023-11-28 05:57:22--  https://raw.githubusercontent.com/myleskeller/ColabOffloading/main/fonts.zip\n",
            "Resolving raw.githubusercontent.com (raw.githubusercontent.com)... 185.199.108.133, 185.199.109.133, 185.199.110.133, ...\n",
            "Connecting to raw.githubusercontent.com (raw.githubusercontent.com)|185.199.108.133|:443... connected.\n",
            "HTTP request sent, awaiting response... 200 OK\n",
            "Length: 299672 (293K) [application/zip]\n",
            "Saving to: ‘fonts.zip’\n",
            "\n",
            "fonts.zip           100%[===================>] 292.65K  --.-KB/s    in 0.05s   \n",
            "\n",
            "2023-11-28 05:57:22 (6.16 MB/s) - ‘fonts.zip’ saved [299672/299672]\n",
            "\n",
            "Archive:  fonts.zip\n",
            "  inflating: /usr/share/fonts/CENSCBK.TTF  \n",
            "  inflating: /usr/share/fonts/times.ttf  \n"
          ]
        }
      ]
    },
    {
      "cell_type": "code",
      "source": [
        "\n",
        "# @title Latex document variables\n",
        "# @markdown ## **Width**\n",
        "# @markdown If using _full-width of page_, get the `width` using value returned by adding `\\linewidth` in latex.\n",
        "\n",
        "# @markdown If using _single column of page_, get the `width` using value returned by adding `\\textwidth` in latex.\n",
        "width = 292 # @param {type:\"integer\"}\n",
        "\n",
        "# @markdown ## **Height**\n",
        "# @markdown Plot `height` is at user discretion.\n",
        "height = 292 # @param {type:\"integer\"}\n",
        "\n",
        "# @markdown ## **Font Size**\n",
        "# @markdown There is no universal latex command to return font size, so get this using trial and error.\n",
        "\n",
        "# @markdown _Note: Most `article` class documents are `10`pt with `8`pt captions_\n",
        "# @markdown I recommend using the captioning font size to maximize real estatefontsize = 8 # @param {type:\"integer\"}\n",
        "fontsize = 8 # @param {type:\"integer\"}\n",
        "\n",
        "# @markdown ## **Font Face**\n",
        "# @markdown There is no universal latex command to return font face, so get this using trial and error.\n",
        "\n",
        "# @markdown _Note: Some documents list their font face in the `\\documentclass` or as a parameter in a `\\usepackage`. Otherwise, it's probably either `Times New Roman` or `Century Schoolbook`. If it's not one of those two, you will need to upload it to this colab session into the folder /usr/share/fonts and properly reference it by name._\n",
        "fontface = \"Century Schoolbook\" # @param [\"Times New Roman\", \"Century Schoolbook\"] {allow-input: true}\n",
        "\n",
        "\n",
        "\n",
        "# !rm -fr ~/.cache/matplotlib\n",
        "\n",
        "# !wget https://github.com/myleskeller/ColabOffloading/raw/main/fonts.zip -O fonts.zip\n",
        "# !unzip fonts.zip -d /usr/share/fonts/\n",
        "# !cp CENSCBK.ttf /usr/share/fonts/CENSCBK.ttf\n",
        "# !cp times.ttf /usr/share/fonts/times.ttf\n",
        "# from matplotlib import font_manager\n",
        "# font_manager.findSystemFonts(fontpaths=None, fontext=\"ttf\")\n",
        "# font_manager.findfont(\"Times New Roman\")\n",
        "# font_manager.findfont(\"Century Schoolbook\")\n",
        "\n",
        "def pt2in(pt):\n",
        "  return float(pt/72)\n",
        "\n",
        "plt.rcParams.update({\"font.family\": fontface})\n",
        "plt.rcParams.update({'font.size': fontsize})\n",
        "plt.rcParams.update({'figure.figsize': (pt2in(width), pt2in(height))})"
      ],
      "metadata": {
        "id": "wVD3AGT1Xi4q",
        "cellView": "form"
      },
      "execution_count": null,
      "outputs": []
    },
    {
      "cell_type": "markdown",
      "source": [
        "### Insert MatPlotLib code below"
      ],
      "metadata": {
        "id": "_C46mlfwQ6Gv"
      }
    },
    {
      "cell_type": "code",
      "execution_count": null,
      "metadata": {
        "colab": {
          "base_uri": "https://localhost:8080/",
          "height": 369
        },
        "id": "KTh-7nlNTcTe",
        "outputId": "40d3c875-4ade-48cd-db8e-953312dc54b5"
      },
      "outputs": [
        {
          "output_type": "display_data",
          "data": {
            "text/plain": [
              "<Figure size 405.556x405.556 with 1 Axes>"
            ],
            "image/png": "[encoded data removed]"
          },
          "metadata": {}
        }
      ],
      "source": [
        "import pandas as pd\n",
        "import numpy as np\n",
        "import scipy as sp\n",
        "\n",
        "\n",
        "x = np.arange(0, 3 * np.pi, 0.1)\n",
        "y = np.sin(x)\n",
        "plt.plot(x, y)\n",
        "plt.show()"
      ]
    },
    {
      "cell_type": "code",
      "source": [
        "# @title File Output\n",
        "filename = \"output\" # @param {type:\"string\"}\n",
        "# @markdown The output .svg should be in the working directory folder of this colab session.\n",
        "\n",
        "# @markdown Make sure to import it into your latex using `\\includesvg` instead of `\\includegraphics`!\n",
        "plt.savefig(filename+\".svg\")\n"
      ],
      "metadata": {
        "colab": {
          "base_uri": "https://localhost:8080/",
          "height": 34
        },
        "id": "y5REsTmkXfSq",
        "outputId": "59c2d14b-ee4b-4c03-8160-0f1e1650fdf4",
        "cellView": "form"
      },
      "execution_count": null,
      "outputs": [
        {
          "output_type": "display_data",
          "data": {
            "text/plain": [
              "<Figure size 405.556x405.556 with 0 Axes>"
            ]
          },
          "metadata": {}
        }
      ]
    }
  ]
}